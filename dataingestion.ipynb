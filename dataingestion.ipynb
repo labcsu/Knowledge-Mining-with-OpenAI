{
 "cells": [
  {
   "attachments": {},
   "cell_type": "markdown",
   "metadata": {},
   "source": [
    "### Install Python Packages"
   ]
  },
  {
   "cell_type": "code",
   "execution_count": null,
   "metadata": {},
   "outputs": [],
   "source": [
    "### Create or update your local Python environment\n",
    "\n",
    "%pip install azure-functions\n",
    "%pip install azure-core\n",
    "%pip install azure-cosmos\n",
    "%pip install openai\n",
    "%pip install numpy\n",
    "%pip install requests\n",
    "%pip install pandas\n",
    "%pip install azure-storage-blob \n",
    "%pip install azure-identity\n",
    "%pip install smart_open\n",
    "%pip install tenacity\n",
    "%pip install pinecone-client\n",
    "%pip install redis\n",
    "%pip install tiktoken\n",
    "%pip install azure-storage-file-share\n",
    "%pip install python-dotenv\n",
    "%pip install azure-search-documents==11.4.0b3\n",
    "%pip install azure-ai-formrecognizer\n",
    "%pip install beautifulsoup4\n",
    "%pip install lxml\n",
    "%pip install openpyxl\n",
    "%pip install azure-ai-textanalytics\n",
    "%pip install langchain==0.0.139\n",
    "%pip install flask\n",
    "%pip install flask-socketio\n"
   ]
  },
  {
   "attachments": {},
   "cell_type": "markdown",
   "metadata": {},
   "source": [
    "### Import Packages"
   ]
  },
  {
   "cell_type": "code",
   "execution_count": 1,
   "metadata": {},
   "outputs": [],
   "source": [
    "import os\n",
    "from dotenv import load_dotenv\n",
    "load_dotenv(override=True)\n",
    "\n",
    "import shutil\n",
    "import sys\n",
    "sys.path.append('./utils')\n",
    "\n",
    "### Uncomment below imports as needed -- make sure that all relevant values and keys in the .env file are properly populated\n",
    "# from utils import redis_helpers\n",
    "# from utils import helpers\n",
    "# from utils import language\n",
    "# from utils import openai_helpers\n",
    "# from utils import storage\n",
    "# from utils import bot_helpers\n",
    "\n",
    "from utils.env_vars import *\n",
    "\n",
    "%load_ext autoreload\n",
    "%autoreload 2"
   ]
  },
  {
   "attachments": {},
   "cell_type": "markdown",
   "metadata": {},
   "source": [
    "### Activate Cognitive Search Ingestion \n",
    "#### First Run - Create Index and Indexer \n",
    "##### Caution: this will destroy any data you might already have in your index"
   ]
  },
  {
   "cell_type": "code",
   "execution_count": 2,
   "metadata": {},
   "outputs": [
    {
     "name": "stdout",
     "output_type": "stream",
     "text": [
      "OK: Looks like index vec-index does not exist\n",
      "Index vec-index created\n",
      "Index km-openai Deleted\n",
      "Index km-openai created\n",
      "Deleted Skillset - km-openai-skills\n",
      "Created new Skillset - km-openai-skills\n",
      "Deleted Indexer - km-openai-indexer\n",
      "Deleted Data Source - km-openai-skills\n",
      "Created new Data Source Connection - km-openai-docs\n",
      "Created new Indexer - km-openai-indexer\n",
      "Running Indexer km-openai-indexer\n"
     ]
    }
   ],
   "source": [
    "#### Ingest all knowledge base documents\n",
    "from utils import cogsearch_helpers\n",
    "\n",
    "cogsearch_helpers.ingest_kb(container = KB_BLOB_CONTAINER)\n"
   ]
  },
  {
   "attachments": {},
   "cell_type": "markdown",
   "metadata": {},
   "source": [
    "### Activate Form Recognizer Ingestion"
   ]
  },
  {
   "cell_type": "code",
   "execution_count": 2,
   "metadata": {},
   "outputs": [],
   "source": [
    "#### Ingest all form documents\n",
    "\n",
    "from utils import storage\n",
    "from utils import fr_helpers\n",
    "\n",
    "fr_helpers.process_forms(in_container = FR_CONTAINER, out_container = OUTPUT_BLOB_CONTAINER)\n",
    "\n"
   ]
  }
 ],
 "metadata": {
  "kernelspec": {
   "display_name": "openai",
   "language": "python",
   "name": "python3"
  },
  "language_info": {
   "codemirror_mode": {
    "name": "ipython",
    "version": 3
   },
   "file_extension": ".py",
   "mimetype": "text/x-python",
   "name": "python",
   "nbconvert_exporter": "python",
   "pygments_lexer": "ipython3",
   "version": "3.8.16"
  },
  "orig_nbformat": 4,
  "vscode": {
   "interpreter": {
    "hash": "4cd1745cb8ae6036b9e0c2149eea914cda9394cff45b1c8e288267fc5648a26d"
   }
  }
 },
 "nbformat": 4,
 "nbformat_minor": 2
}
